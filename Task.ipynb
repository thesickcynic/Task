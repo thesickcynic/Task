{
 "cells": [
  {
   "cell_type": "markdown",
   "metadata": {},
   "source": []
  },
  {
   "cell_type": "code",
   "execution_count": 42,
   "metadata": {},
   "outputs": [],
   "source": [
    "import pandas as pd\n",
    "import numpy as np\n",
    "import matplotlib.pyplot as plt\n",
    "import glob\n",
    "import os"
   ]
  },
  {
   "cell_type": "code",
   "execution_count": 43,
   "metadata": {},
   "outputs": [],
   "source": [
    "path = 'data/Conventional'                     \n",
    "all_files = glob.glob(os.path.join(path, \"*.csv\"))\n",
    "\n",
    "df_from_each_file = (pd.read_csv(f) for f in all_files)\n",
    "conventional_df = pd.concat(df_from_each_file, ignore_index=True)"
   ]
  },
  {
   "cell_type": "code",
   "execution_count": 44,
   "metadata": {},
   "outputs": [],
   "source": [
    "conventional_df['Date'] = pd.to_datetime(conventional_df['Date'])\n",
    "conventional_df.set_index('Date', inplace=True)"
   ]
  },
  {
   "cell_type": "code",
   "execution_count": 45,
   "metadata": {},
   "outputs": [],
   "source": [
    "conventional_df = conventional_df.sort_index()"
   ]
  },
  {
   "cell_type": "code",
   "execution_count": 46,
   "metadata": {},
   "outputs": [
    {
     "data": {
      "text/plain": [
       "AveragePrice    0\n",
       "Total Volume    0\n",
       "4046            0\n",
       "4225            0\n",
       "4770            0\n",
       "Total Bags      0\n",
       "Small Bags      0\n",
       "Large Bags      0\n",
       "XLarge Bags     0\n",
       "dtype: int64"
      ]
     },
     "execution_count": 46,
     "metadata": {},
     "output_type": "execute_result"
    }
   ],
   "source": [
    "conventional_df.isnull().sum()"
   ]
  },
  {
   "cell_type": "code",
   "execution_count": 47,
   "metadata": {},
   "outputs": [],
   "source": [
    "path = 'data/Organic'                     \n",
    "all_files = glob.glob(os.path.join(path, \"*.csv\"))\n",
    "\n",
    "df_from_each_file = (pd.read_csv(f) for f in all_files)\n",
    "organic_df = pd.concat(df_from_each_file, ignore_index=True)"
   ]
  },
  {
   "cell_type": "code",
   "execution_count": 48,
   "metadata": {},
   "outputs": [],
   "source": [
    "organic_df['Date'] = pd.to_datetime(organic_df['Date'])\n",
    "organic_df.set_index('Date', inplace=True)"
   ]
  },
  {
   "cell_type": "code",
   "execution_count": 49,
   "metadata": {},
   "outputs": [
    {
     "name": "stdout",
     "output_type": "stream",
     "text": [
      "            AveragePrice  Total Volume       4046       4225      4770  \\\n",
      "Date                                                                     \n",
      "2016-01-03          1.43     704100.50  124799.63  246580.95   7749.40   \n",
      "2016-01-10          1.35     828670.59  113867.63  287590.19   8771.79   \n",
      "2016-01-17          1.44     695341.42  115992.81  266824.72  13106.29   \n",
      "2016-01-24          1.41     776964.55   99316.69  270980.88  12933.97   \n",
      "2016-01-31          1.43     772077.20  108929.21  269687.52   5515.91   \n",
      "2016-02-07          1.44     758795.10  101408.79  290813.54   8028.75   \n",
      "2016-02-14          1.37     852463.31  102897.63  306235.69   6955.69   \n",
      "2016-02-21          1.45     738856.92  104135.94  281188.89   8629.03   \n",
      "2016-02-28          1.44     845011.63  110120.49  347488.78  10423.30   \n",
      "2016-03-06          1.28    1012415.85  127184.88  351951.65   5698.20   \n",
      "2016-03-13          1.29    1023655.87  132040.04  346341.46   6709.65   \n",
      "2016-03-20          1.27    1045450.41  105069.07  352698.21   9425.64   \n",
      "2016-03-27          1.44     900644.79  112620.05  338194.18   7738.95   \n",
      "2016-04-03          1.44     930722.39  119283.90  371845.60   8628.68   \n",
      "2016-04-10          1.26    1179603.03  108747.34  400281.85  12154.73   \n",
      "2016-04-17          1.38    1022217.32  115155.65  388081.34   7878.94   \n",
      "2016-04-24          1.25    1475457.53  225429.09  524511.95   8687.81   \n",
      "2016-05-01          1.28    1317867.00  238992.91  484383.87  22276.60   \n",
      "2016-05-08          1.30    1137940.78  132225.28  443777.31  26765.78   \n",
      "2016-05-15          1.45    1023252.17  146037.30  437584.52   8120.53   \n",
      "2016-05-22          1.36    1165715.01  166883.21  455336.56  15807.85   \n",
      "2016-05-29          1.41    1085152.56  137449.41  468311.32  13698.09   \n",
      "2016-06-05          1.43    1012717.93  152105.91  410451.71   7817.11   \n",
      "2016-06-12          1.45     975275.55  176286.36  403561.49   8626.89   \n",
      "2016-06-19          1.45    1071066.66  166983.45  445194.49  12052.84   \n",
      "2016-06-26          1.50    1007378.78  171054.38  391129.07   6763.46   \n",
      "2016-07-03          1.47    1073595.37  159903.00  381527.15  11897.11   \n",
      "2016-07-10          1.51    1043428.53  152994.70  355101.22  12180.53   \n",
      "2016-07-17          1.63    1018118.27  152828.51  359772.18   9957.61   \n",
      "2016-07-24          1.65     919489.84  159151.31  343780.56   8612.44   \n",
      "...                  ...           ...        ...        ...       ...   \n",
      "2018-04-15          1.51    1684002.95  133729.75  343301.42   1630.00   \n",
      "2018-04-22          1.50    1762657.39  172008.18  414972.24   1099.32   \n",
      "2018-04-29          1.55    1682802.87  153751.17  352293.20   1820.38   \n",
      "2018-05-06          1.55    1553505.77  140895.91  311885.58   1342.74   \n",
      "2018-05-13          1.53    1628313.11  155886.88  358982.72   1957.66   \n",
      "2018-05-20          1.51    1673877.40  136748.96  339512.94   2332.58   \n",
      "2018-05-27          1.42    2109541.63  181149.41  348179.71   2397.78   \n",
      "2018-06-03          1.45    2114576.90  209631.96  394164.19   2382.74   \n",
      "2018-06-10          1.52    1739840.46  148182.01  286902.54   2235.23   \n",
      "2018-06-17          1.41    2009887.76  200044.08  366668.23   2194.76   \n",
      "2018-06-24          1.50    1633962.12  163841.30  289770.82   2323.17   \n",
      "2018-07-01          1.56    1577022.49  151294.41  317193.63   2514.20   \n",
      "2018-07-08          1.57    1589877.42  153518.59  341813.38   1115.90   \n",
      "2018-07-15          1.58    1568944.98  155018.27  349923.01   1277.10   \n",
      "2018-08-19          1.64    1401564.09  152939.89  297706.16   1745.31   \n",
      "2018-08-26          1.65    1444798.30  166581.33  311652.30   1248.17   \n",
      "2018-09-02          1.71    1556510.73  184937.59  304181.81   1242.46   \n",
      "2018-09-09          1.70    1517213.66  161144.72  278782.12   1961.65   \n",
      "2018-09-16          1.70    1449050.99  149479.52  268279.70   1517.62   \n",
      "2018-09-23          1.68    1439915.54  138270.98  268164.05    962.57   \n",
      "2018-09-30          1.67    1519326.55  127827.48  253467.17    772.71   \n",
      "2018-10-07          1.63    1561631.06  121600.32  269683.00    861.60   \n",
      "2018-10-14          1.57    1540282.85  123311.87  232505.14    643.46   \n",
      "2018-10-21          1.52    1498750.04  113379.25  230647.41    623.33   \n",
      "2018-10-28          1.50    1491232.38  120534.75  246729.25    511.89   \n",
      "2018-11-04          1.50    1436243.31  133539.46  257419.27    539.39   \n",
      "2018-11-11          1.49    1534804.73  147086.46  251477.54    559.52   \n",
      "2018-11-18           NaN    1652276.32  212734.08  323987.85    625.41   \n",
      "2018-11-25          1.66    1160387.64  140817.14  232897.58    449.83   \n",
      "2018-12-02          1.58    1242754.19  118442.29  230167.57    748.83   \n",
      "\n",
      "            Total Bags  Small Bags  Large Bags  XLarge Bags  \n",
      "Date                                                         \n",
      "2016-01-03   324970.52   150967.35   174003.17         0.00  \n",
      "2016-01-10   418440.98   183115.43   235325.55         0.00  \n",
      "2016-01-17   299417.60   150719.73   148697.87         0.00  \n",
      "2016-01-24   393733.01   204859.71   188873.30         0.00  \n",
      "2016-01-31   387944.56   204288.83   183655.73         0.00  \n",
      "2016-02-07   358544.02   210519.67   148024.35         0.00  \n",
      "2016-02-14   436374.30   201936.87   234437.43         0.00  \n",
      "2016-02-21   344903.06   223281.18   121621.88         0.00  \n",
      "2016-02-28   376979.06   277995.45    98983.61         0.00  \n",
      "2016-03-06   527581.12   309561.60   218019.52         0.00  \n",
      "2016-03-13   538564.72   282353.48   256211.24         0.00  \n",
      "2016-03-20   578257.49   252881.52   325375.97         0.00  \n",
      "2016-03-27   442091.61   263938.32   178153.29         0.00  \n",
      "2016-04-03   430964.21   289504.38   141459.83         0.00  \n",
      "2016-04-10   658419.11   368458.82   289960.29         0.00  \n",
      "2016-04-17   511101.39   352484.76   158616.63         0.00  \n",
      "2016-04-24   716828.68   555986.43   160842.25         0.00  \n",
      "2016-05-01   572213.62   368709.06   203504.56         0.00  \n",
      "2016-05-08   535172.41   319417.49   215754.92         0.00  \n",
      "2016-05-15   431509.82   309561.79   121948.03         0.00  \n",
      "2016-05-22   527687.39   370815.25   156872.14         0.00  \n",
      "2016-05-29   465693.74   349592.45   116101.29         0.00  \n",
      "2016-06-05   442343.20   310881.84   131461.36         0.00  \n",
      "2016-06-12   386800.81   279246.87   107553.94         0.00  \n",
      "2016-06-19   446835.88   302393.63   144442.25         0.00  \n",
      "2016-06-26   438431.87   310467.62   127964.25         0.00  \n",
      "2016-07-03   520268.11   350794.25   169473.86         0.00  \n",
      "2016-07-10   523152.08   379451.98   143700.10         0.00  \n",
      "2016-07-17   495559.97   346531.83   149028.14         0.00  \n",
      "2016-07-24   407945.53   329530.26    78415.27         0.00  \n",
      "...                ...         ...         ...          ...  \n",
      "2018-04-15  1205016.85   991437.42   213457.25       122.18  \n",
      "2018-04-22  1174508.94   910246.88   264137.24       124.82  \n",
      "2018-04-29  1174781.76   879278.50   295503.26         0.00  \n",
      "2018-05-06  1099216.41   862135.42   237043.00        37.99  \n",
      "2018-05-13  1111090.67   873501.09   237527.59        61.99  \n",
      "2018-05-20  1182749.59   958819.25   223892.64        37.70  \n",
      "2018-05-27  1373723.99  1054811.41   318779.77       132.81  \n",
      "2018-06-03  1311045.39  1007876.31   302990.28       178.80  \n",
      "2018-06-10  1182638.47   943013.17   239619.27         6.03  \n",
      "2018-06-17  1159167.88   932509.19   226433.79       224.90  \n",
      "2018-06-24  1071575.45   882715.58   188246.12       613.75  \n",
      "2018-07-01  1100184.86   850168.07   249775.02       241.77  \n",
      "2018-07-08  1092704.92   805225.83   287408.34        70.75  \n",
      "2018-07-15  1062513.79   850384.88   212101.67        27.24  \n",
      "2018-08-19   948992.75   759918.27   189013.68        60.80  \n",
      "2018-08-26   965140.20   830395.38   134548.43       196.39  \n",
      "2018-09-02  1066108.68   852155.51   213468.55       484.62  \n",
      "2018-09-09  1075193.22   894931.88   180220.19        41.15  \n",
      "2018-09-16  1029631.66   856569.46   173053.04         9.16  \n",
      "2018-09-23  1032427.98   837568.14   194683.59       176.25  \n",
      "2018-09-30  1137180.28   911878.04   225186.05       116.19  \n",
      "2018-10-07  1169439.48   947582.76   221832.12        24.60  \n",
      "2018-10-14  1183773.02   980781.24   202965.68        26.10  \n",
      "2018-10-21  1154060.37   956894.57   197108.91        56.89  \n",
      "2018-10-28  1123404.15   920742.85   202601.20        60.10  \n",
      "2018-11-04  1044632.76   877016.53   167588.52        27.71  \n",
      "2018-11-11  1135599.27   986753.99   148800.45        44.83  \n",
      "2018-11-18  1114928.98   957528.55   157392.69         7.74  \n",
      "2018-11-25   786164.96   612004.35   174132.66        27.95  \n",
      "2018-12-02   893381.79   698557.18   194824.61         0.00  \n",
      "\n",
      "[149 rows x 9 columns]\n"
     ]
    }
   ],
   "source": [
    "organic_df = organic_df.sort_index()\n",
    "print(organic_df)"
   ]
  },
  {
   "cell_type": "code",
   "execution_count": 50,
   "metadata": {},
   "outputs": [
    {
     "data": {
      "text/plain": [
       "AveragePrice    1\n",
       "Total Volume    0\n",
       "4046            0\n",
       "4225            0\n",
       "4770            0\n",
       "Total Bags      0\n",
       "Small Bags      0\n",
       "Large Bags      0\n",
       "XLarge Bags     0\n",
       "dtype: int64"
      ]
     },
     "execution_count": 50,
     "metadata": {},
     "output_type": "execute_result"
    }
   ],
   "source": [
    "organic_df.isnull().sum()"
   ]
  },
  {
   "cell_type": "code",
   "execution_count": 51,
   "metadata": {},
   "outputs": [],
   "source": [
    "organic_df.fillna(organic_df.mean(),inplace=True)"
   ]
  },
  {
   "cell_type": "code",
   "execution_count": 52,
   "metadata": {},
   "outputs": [
    {
     "data": {
      "text/plain": [
       "AveragePrice    0\n",
       "Total Volume    0\n",
       "4046            0\n",
       "4225            0\n",
       "4770            0\n",
       "Total Bags      0\n",
       "Small Bags      0\n",
       "Large Bags      0\n",
       "XLarge Bags     0\n",
       "dtype: int64"
      ]
     },
     "execution_count": 52,
     "metadata": {},
     "output_type": "execute_result"
    }
   ],
   "source": [
    "organic_df.isnull().sum()"
   ]
  },
  {
   "cell_type": "code",
   "execution_count": 55,
   "metadata": {},
   "outputs": [
    {
     "name": "stdout",
     "output_type": "stream",
     "text": [
      "            AveragePrice  Total Volume       4046       4225      4770  \\\n",
      "Date                                                                     \n",
      "2016-01-03         1.430     704100.50  124799.63  246580.95   7749.40   \n",
      "2016-01-10         1.350     828670.59  113867.63  287590.19   8771.79   \n",
      "2016-01-17         1.440     695341.42  115992.81  266824.72  13106.29   \n",
      "2016-01-24         1.410     776964.55   99316.69  270980.88  12933.97   \n",
      "2016-01-31         1.430     772077.20  108929.21  269687.52   5515.91   \n",
      "2016-02-07         1.440     758795.10  101408.79  290813.54   8028.75   \n",
      "2016-02-14         1.370     852463.31  102897.63  306235.69   6955.69   \n",
      "2016-02-21         1.450     738856.92  104135.94  281188.89   8629.03   \n",
      "2016-02-28         1.440     845011.63  110120.49  347488.78  10423.30   \n",
      "2016-03-06         1.280    1012415.85  127184.88  351951.65   5698.20   \n",
      "2016-03-13         1.290    1023655.87  132040.04  346341.46   6709.65   \n",
      "2016-03-20         1.270    1045450.41  105069.07  352698.21   9425.64   \n",
      "2016-03-27         1.440     900644.79  112620.05  338194.18   7738.95   \n",
      "2016-04-03         1.440     930722.39  119283.90  371845.60   8628.68   \n",
      "2016-04-10         1.260    1179603.03  108747.34  400281.85  12154.73   \n",
      "2016-04-17         1.380    1022217.32  115155.65  388081.34   7878.94   \n",
      "2016-04-24         1.250    1475457.53  225429.09  524511.95   8687.81   \n",
      "2016-05-01         1.280    1317867.00  238992.91  484383.87  22276.60   \n",
      "2016-05-08         1.300    1137940.78  132225.28  443777.31  26765.78   \n",
      "2016-05-15         1.450    1023252.17  146037.30  437584.52   8120.53   \n",
      "2016-05-22         1.360    1165715.01  166883.21  455336.56  15807.85   \n",
      "2016-05-29         1.410    1085152.56  137449.41  468311.32  13698.09   \n",
      "2016-06-05         1.430    1012717.93  152105.91  410451.71   7817.11   \n",
      "2016-06-12         1.450     975275.55  176286.36  403561.49   8626.89   \n",
      "2016-06-19         1.450    1071066.66  166983.45  445194.49  12052.84   \n",
      "2016-06-26         1.500    1007378.78  171054.38  391129.07   6763.46   \n",
      "2016-07-03         1.470    1073595.37  159903.00  381527.15  11897.11   \n",
      "2016-07-10         1.510    1043428.53  152994.70  355101.22  12180.53   \n",
      "2016-07-17         1.630    1018118.27  152828.51  359772.18   9957.61   \n",
      "2016-07-24         1.650     919489.84  159151.31  343780.56   8612.44   \n",
      "...                  ...           ...        ...        ...       ...   \n",
      "2018-04-15         1.510    1684002.95  133729.75  343301.42   1630.00   \n",
      "2018-04-22         1.500    1762657.39  172008.18  414972.24   1099.32   \n",
      "2018-04-29         1.550    1682802.87  153751.17  352293.20   1820.38   \n",
      "2018-05-06         1.550    1553505.77  140895.91  311885.58   1342.74   \n",
      "2018-05-13         1.530    1628313.11  155886.88  358982.72   1957.66   \n",
      "2018-05-20         1.510    1673877.40  136748.96  339512.94   2332.58   \n",
      "2018-05-27         1.420    2109541.63  181149.41  348179.71   2397.78   \n",
      "2018-06-03         1.450    2114576.90  209631.96  394164.19   2382.74   \n",
      "2018-06-10         1.520    1739840.46  148182.01  286902.54   2235.23   \n",
      "2018-06-17         1.410    2009887.76  200044.08  366668.23   2194.76   \n",
      "2018-06-24         1.500    1633962.12  163841.30  289770.82   2323.17   \n",
      "2018-07-01         1.560    1577022.49  151294.41  317193.63   2514.20   \n",
      "2018-07-08         1.570    1589877.42  153518.59  341813.38   1115.90   \n",
      "2018-07-15         1.580    1568944.98  155018.27  349923.01   1277.10   \n",
      "2018-08-19         1.640    1401564.09  152939.89  297706.16   1745.31   \n",
      "2018-08-26         1.650    1444798.30  166581.33  311652.30   1248.17   \n",
      "2018-09-02         1.710    1556510.73  184937.59  304181.81   1242.46   \n",
      "2018-09-09         1.700    1517213.66  161144.72  278782.12   1961.65   \n",
      "2018-09-16         1.700    1449050.99  149479.52  268279.70   1517.62   \n",
      "2018-09-23         1.680    1439915.54  138270.98  268164.05    962.57   \n",
      "2018-09-30         1.670    1519326.55  127827.48  253467.17    772.71   \n",
      "2018-10-07         1.630    1561631.06  121600.32  269683.00    861.60   \n",
      "2018-10-14         1.570    1540282.85  123311.87  232505.14    643.46   \n",
      "2018-10-21         1.520    1498750.04  113379.25  230647.41    623.33   \n",
      "2018-10-28         1.500    1491232.38  120534.75  246729.25    511.89   \n",
      "2018-11-04         1.500    1436243.31  133539.46  257419.27    539.39   \n",
      "2018-11-11         1.490    1534804.73  147086.46  251477.54    559.52   \n",
      "2018-11-18         1.565    1652276.32  212734.08  323987.85    625.41   \n",
      "2018-11-25         1.660    1160387.64  140817.14  232897.58    449.83   \n",
      "2018-12-02         1.580    1242754.19  118442.29  230167.57    748.83   \n",
      "\n",
      "            Total Bags  Small Bags  Large Bags  XLarge Bags  \n",
      "Date                                                         \n",
      "2016-01-03   324970.52   150967.35   174003.17         0.00  \n",
      "2016-01-10   418440.98   183115.43   235325.55         0.00  \n",
      "2016-01-17   299417.60   150719.73   148697.87         0.00  \n",
      "2016-01-24   393733.01   204859.71   188873.30         0.00  \n",
      "2016-01-31   387944.56   204288.83   183655.73         0.00  \n",
      "2016-02-07   358544.02   210519.67   148024.35         0.00  \n",
      "2016-02-14   436374.30   201936.87   234437.43         0.00  \n",
      "2016-02-21   344903.06   223281.18   121621.88         0.00  \n",
      "2016-02-28   376979.06   277995.45    98983.61         0.00  \n",
      "2016-03-06   527581.12   309561.60   218019.52         0.00  \n",
      "2016-03-13   538564.72   282353.48   256211.24         0.00  \n",
      "2016-03-20   578257.49   252881.52   325375.97         0.00  \n",
      "2016-03-27   442091.61   263938.32   178153.29         0.00  \n",
      "2016-04-03   430964.21   289504.38   141459.83         0.00  \n",
      "2016-04-10   658419.11   368458.82   289960.29         0.00  \n",
      "2016-04-17   511101.39   352484.76   158616.63         0.00  \n",
      "2016-04-24   716828.68   555986.43   160842.25         0.00  \n",
      "2016-05-01   572213.62   368709.06   203504.56         0.00  \n",
      "2016-05-08   535172.41   319417.49   215754.92         0.00  \n",
      "2016-05-15   431509.82   309561.79   121948.03         0.00  \n",
      "2016-05-22   527687.39   370815.25   156872.14         0.00  \n",
      "2016-05-29   465693.74   349592.45   116101.29         0.00  \n",
      "2016-06-05   442343.20   310881.84   131461.36         0.00  \n",
      "2016-06-12   386800.81   279246.87   107553.94         0.00  \n",
      "2016-06-19   446835.88   302393.63   144442.25         0.00  \n",
      "2016-06-26   438431.87   310467.62   127964.25         0.00  \n",
      "2016-07-03   520268.11   350794.25   169473.86         0.00  \n",
      "2016-07-10   523152.08   379451.98   143700.10         0.00  \n",
      "2016-07-17   495559.97   346531.83   149028.14         0.00  \n",
      "2016-07-24   407945.53   329530.26    78415.27         0.00  \n",
      "...                ...         ...         ...          ...  \n",
      "2018-04-15  1205016.85   991437.42   213457.25       122.18  \n",
      "2018-04-22  1174508.94   910246.88   264137.24       124.82  \n",
      "2018-04-29  1174781.76   879278.50   295503.26         0.00  \n",
      "2018-05-06  1099216.41   862135.42   237043.00        37.99  \n",
      "2018-05-13  1111090.67   873501.09   237527.59        61.99  \n",
      "2018-05-20  1182749.59   958819.25   223892.64        37.70  \n",
      "2018-05-27  1373723.99  1054811.41   318779.77       132.81  \n",
      "2018-06-03  1311045.39  1007876.31   302990.28       178.80  \n",
      "2018-06-10  1182638.47   943013.17   239619.27         6.03  \n",
      "2018-06-17  1159167.88   932509.19   226433.79       224.90  \n",
      "2018-06-24  1071575.45   882715.58   188246.12       613.75  \n",
      "2018-07-01  1100184.86   850168.07   249775.02       241.77  \n",
      "2018-07-08  1092704.92   805225.83   287408.34        70.75  \n",
      "2018-07-15  1062513.79   850384.88   212101.67        27.24  \n",
      "2018-08-19   948992.75   759918.27   189013.68        60.80  \n",
      "2018-08-26   965140.20   830395.38   134548.43       196.39  \n",
      "2018-09-02  1066108.68   852155.51   213468.55       484.62  \n",
      "2018-09-09  1075193.22   894931.88   180220.19        41.15  \n",
      "2018-09-16  1029631.66   856569.46   173053.04         9.16  \n",
      "2018-09-23  1032427.98   837568.14   194683.59       176.25  \n",
      "2018-09-30  1137180.28   911878.04   225186.05       116.19  \n",
      "2018-10-07  1169439.48   947582.76   221832.12        24.60  \n",
      "2018-10-14  1183773.02   980781.24   202965.68        26.10  \n",
      "2018-10-21  1154060.37   956894.57   197108.91        56.89  \n",
      "2018-10-28  1123404.15   920742.85   202601.20        60.10  \n",
      "2018-11-04  1044632.76   877016.53   167588.52        27.71  \n",
      "2018-11-11  1135599.27   986753.99   148800.45        44.83  \n",
      "2018-11-18  1114928.98   957528.55   157392.69         7.74  \n",
      "2018-11-25   786164.96   612004.35   174132.66        27.95  \n",
      "2018-12-02   893381.79   698557.18   194824.61         0.00  \n",
      "\n",
      "[149 rows x 9 columns]\n"
     ]
    }
   ],
   "source": [
    "print(organic_df)"
   ]
  },
  {
   "cell_type": "code",
   "execution_count": 56,
   "metadata": {},
   "outputs": [
    {
     "data": {
      "text/plain": [
       "<matplotlib.axes._subplots.AxesSubplot at 0x7f1ac7102470>"
      ]
     },
     "execution_count": 56,
     "metadata": {},
     "output_type": "execute_result"
    },
    {
     "data": {
      "image/png": "[encoded data removed]",
      "text/plain": [
       "<Figure size 432x288 with 1 Axes>"
      ]
     },
     "metadata": {
      "needs_background": "light"
     },
     "output_type": "display_data"
    }
   ],
   "source": [
    "organic_df['AveragePrice'].plot()"
   ]
  },
  {
   "cell_type": "code",
   "execution_count": null,
   "metadata": {},
   "outputs": [],
   "source": []
  }
 ],
 "metadata": {
  "kernelspec": {
   "display_name": "Python 3",
   "language": "python",
   "name": "python3"
  },
  "language_info": {
   "codemirror_mode": {
    "name": "ipython",
    "version": 3
   },
   "file_extension": ".py",
   "mimetype": "text/x-python",
   "name": "python",
   "nbconvert_exporter": "python",
   "pygments_lexer": "ipython3",
   "version": "3.7.1"
  }
 },
 "nbformat": 4,
 "nbformat_minor": 2
}
