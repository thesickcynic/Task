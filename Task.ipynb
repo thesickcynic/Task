{
 "cells": [
  {
   "cell_type": "markdown",
   "metadata": {},
   "source": [
    "## (Task 1) Gathering Retail Data\n",
    "\n",
    "For this task, I have used the data about the average price of Avocados calculated using nationwide sales data. This data is available on the [website](https://www.hassavocadoboard.com/retail/volume-and-price-data) of the Hass Avocado Board.\n",
    "\n",
    "It contains region-wise, as well as nation-wide data regarding the sale and the prices of avocados. I have considered the cumulative nationwide data for transactional analysis, and the regional data for statistical and exploratory analysis."
   ]
  },
  {
   "cell_type": "markdown",
   "metadata": {},
   "source": [
    "### Importing relevant libraries"
   ]
  },
  {
   "cell_type": "code",
   "execution_count": 1,
   "metadata": {},
   "outputs": [],
   "source": [
    "import pandas as pd\n",
    "import numpy as np\n",
    "import matplotlib.pyplot as plt\n",
    "%matplotlib inline\n",
    "plt.rcParams['figure.figsize'] = (12, 5)\n",
    "plt.rcParams['font.size'] = 14\n",
    "plt.style.use(\"fivethirtyeight\")\n",
    "import glob\n",
    "import os\n",
    "import warnings\n",
    "from statsmodels.tsa.arima_model import ARIMA\n",
    "import statsmodels.api as sm\n",
    "import autopep8\n",
    "from statsmodels.tsa.seasonal import seasonal_decompose\n",
    "from sklearn.metrics import mean_squared_error\n",
    "import sqlite3"
   ]
  },
  {
   "cell_type": "markdown",
   "metadata": {},
   "source": [
    "### Importing Data and Combining CSV Files\n",
    "The dataset is located in the `data` folder, with the CSV files pertaining to yearwise data for conventional avocados in `data\\conventional` folder, and those pertaining to organic in `data\\organic`.\n",
    "\n",
    "In the following cells, we'll concatenate the yearwise data for conventional avocados for the years 2016, 2017, and 2018 into one dataframe."
   ]
  },
  {
   "cell_type": "code",
   "execution_count": 2,
   "metadata": {},
   "outputs": [],
   "source": [
    "path = 'data/Conventional'\n",
    "all_files = glob.glob(os.path.join(path, \"*.csv\"))\n",
    "\n",
    "df_from_each_file = (pd.read_csv(f) for f in all_files)\n",
    "conventional_df = pd.concat(df_from_each_file, ignore_index=True)"
   ]
  },
  {
   "cell_type": "markdown",
   "metadata": {},
   "source": [
    "#### Converting Dates to pandas datetime format"
   ]
  },
  {
   "cell_type": "code",
   "execution_count": 3,
   "metadata": {},
   "outputs": [],
   "source": [
    "conventional_df['Date'] = pd.to_datetime(conventional_df['Date'])\n",
    "conventional_df.set_index('Date', inplace=True)"
   ]
  },
  {
   "cell_type": "markdown",
   "metadata": {},
   "source": [
    "#### Sorting by date in chronological order"
   ]
  },
  {
   "cell_type": "code",
   "execution_count": 4,
   "metadata": {},
   "outputs": [],
   "source": [
    "conventional_df = conventional_df.sort_index()"
   ]
  },
  {
   "cell_type": "markdown",
   "metadata": {},
   "source": [
    "### Doing the same for the Organic dataset"
   ]
  },
  {
   "cell_type": "code",
   "execution_count": 5,
   "metadata": {},
   "outputs": [],
   "source": [
    "path = 'data/Organic'\n",
    "all_files = glob.glob(os.path.join(path, \"*.csv\"))\n",
    "\n",
    "df_from_each_file = (pd.read_csv(f) for f in all_files)\n",
    "organic_df = pd.concat(df_from_each_file, ignore_index=True)"
   ]
  },
  {
   "cell_type": "code",
   "execution_count": 6,
   "metadata": {},
   "outputs": [],
   "source": [
    "organic_df['Date'] = pd.to_datetime(organic_df['Date'])\n",
    "organic_df.set_index('Date', inplace=True)"
   ]
  },
  {
   "cell_type": "code",
   "execution_count": 7,
   "metadata": {},
   "outputs": [
    {
     "name": "stdout",
     "output_type": "stream",
     "text": [
      "            AveragePrice  Total Volume       4046       4225      4770  \\\n",
      "Date                                                                     \n",
      "2016-01-03          1.43     704100.50  124799.63  246580.95   7749.40   \n",
      "2016-01-10          1.35     828670.59  113867.63  287590.19   8771.79   \n",
      "2016-01-17          1.44     695341.42  115992.81  266824.72  13106.29   \n",
      "2016-01-24          1.41     776964.55   99316.69  270980.88  12933.97   \n",
      "2016-01-31          1.43     772077.20  108929.21  269687.52   5515.91   \n",
      "2016-02-07          1.44     758795.10  101408.79  290813.54   8028.75   \n",
      "2016-02-14          1.37     852463.31  102897.63  306235.69   6955.69   \n",
      "2016-02-21          1.45     738856.92  104135.94  281188.89   8629.03   \n",
      "2016-02-28          1.44     845011.63  110120.49  347488.78  10423.30   \n",
      "2016-03-06          1.28    1012415.85  127184.88  351951.65   5698.20   \n",
      "2016-03-13          1.29    1023655.87  132040.04  346341.46   6709.65   \n",
      "2016-03-20          1.27    1045450.41  105069.07  352698.21   9425.64   \n",
      "2016-03-27          1.44     900644.79  112620.05  338194.18   7738.95   \n",
      "2016-04-03          1.44     930722.39  119283.90  371845.60   8628.68   \n",
      "2016-04-10          1.26    1179603.03  108747.34  400281.85  12154.73   \n",
      "2016-04-17          1.38    1022217.32  115155.65  388081.34   7878.94   \n",
      "2016-04-24          1.25    1475457.53  225429.09  524511.95   8687.81   \n",
      "2016-05-01          1.28    1317867.00  238992.91  484383.87  22276.60   \n",
      "2016-05-08          1.30    1137940.78  132225.28  443777.31  26765.78   \n",
      "2016-05-15          1.45    1023252.17  146037.30  437584.52   8120.53   \n",
      "2016-05-22          1.36    1165715.01  166883.21  455336.56  15807.85   \n",
      "2016-05-29          1.41    1085152.56  137449.41  468311.32  13698.09   \n",
      "2016-06-05          1.43    1012717.93  152105.91  410451.71   7817.11   \n",
      "2016-06-12          1.45     975275.55  176286.36  403561.49   8626.89   \n",
      "2016-06-19          1.45    1071066.66  166983.45  445194.49  12052.84   \n",
      "2016-06-26          1.50    1007378.78  171054.38  391129.07   6763.46   \n",
      "2016-07-03          1.47    1073595.37  159903.00  381527.15  11897.11   \n",
      "2016-07-10          1.51    1043428.53  152994.70  355101.22  12180.53   \n",
      "2016-07-17          1.63    1018118.27  152828.51  359772.18   9957.61   \n",
      "2016-07-24          1.65     919489.84  159151.31  343780.56   8612.44   \n",
      "...                  ...           ...        ...        ...       ...   \n",
      "2018-04-15          1.51    1684002.95  133729.75  343301.42   1630.00   \n",
      "2018-04-22          1.50    1762657.39  172008.18  414972.24   1099.32   \n",
      "2018-04-29          1.55    1682802.87  153751.17  352293.20   1820.38   \n",
      "2018-05-06          1.55    1553505.77  140895.91  311885.58   1342.74   \n",
      "2018-05-13          1.53    1628313.11  155886.88  358982.72   1957.66   \n",
      "2018-05-20          1.51    1673877.40  136748.96  339512.94   2332.58   \n",
      "2018-05-27          1.42    2109541.63  181149.41  348179.71   2397.78   \n",
      "2018-06-03          1.45    2114576.90  209631.96  394164.19   2382.74   \n",
      "2018-06-10          1.52    1739840.46  148182.01  286902.54   2235.23   \n",
      "2018-06-17          1.41    2009887.76  200044.08  366668.23   2194.76   \n",
      "2018-06-24          1.50    1633962.12  163841.30  289770.82   2323.17   \n",
      "2018-07-01          1.56    1577022.49  151294.41  317193.63   2514.20   \n",
      "2018-07-08          1.57    1589877.42  153518.59  341813.38   1115.90   \n",
      "2018-07-15          1.58    1568944.98  155018.27  349923.01   1277.10   \n",
      "2018-08-19          1.64    1401564.09  152939.89  297706.16   1745.31   \n",
      "2018-08-26          1.65    1444798.30  166581.33  311652.30   1248.17   \n",
      "2018-09-02          1.71    1556510.73  184937.59  304181.81   1242.46   \n",
      "2018-09-09          1.70    1517213.66  161144.72  278782.12   1961.65   \n",
      "2018-09-16          1.70    1449050.99  149479.52  268279.70   1517.62   \n",
      "2018-09-23          1.68    1439915.54  138270.98  268164.05    962.57   \n",
      "2018-09-30          1.67    1519326.55  127827.48  253467.17    772.71   \n",
      "2018-10-07          1.63    1561631.06  121600.32  269683.00    861.60   \n",
      "2018-10-14          1.57    1540282.85  123311.87  232505.14    643.46   \n",
      "2018-10-21          1.52    1498750.04  113379.25  230647.41    623.33   \n",
      "2018-10-28          1.50    1491232.38  120534.75  246729.25    511.89   \n",
      "2018-11-04          1.50    1436243.31  133539.46  257419.27    539.39   \n",
      "2018-11-11          1.49    1534804.73  147086.46  251477.54    559.52   \n",
      "2018-11-18           NaN    1652276.32  212734.08  323987.85    625.41   \n",
      "2018-11-25          1.66    1160387.64  140817.14  232897.58    449.83   \n",
      "2018-12-02          1.58    1242754.19  118442.29  230167.57    748.83   \n",
      "\n",
      "            Total Bags  Small Bags  Large Bags  XLarge Bags  \n",
      "Date                                                         \n",
      "2016-01-03   324970.52   150967.35   174003.17         0.00  \n",
      "2016-01-10   418440.98   183115.43   235325.55         0.00  \n",
      "2016-01-17   299417.60   150719.73   148697.87         0.00  \n",
      "2016-01-24   393733.01   204859.71   188873.30         0.00  \n",
      "2016-01-31   387944.56   204288.83   183655.73         0.00  \n",
      "2016-02-07   358544.02   210519.67   148024.35         0.00  \n",
      "2016-02-14   436374.30   201936.87   234437.43         0.00  \n",
      "2016-02-21   344903.06   223281.18   121621.88         0.00  \n",
      "2016-02-28   376979.06   277995.45    98983.61         0.00  \n",
      "2016-03-06   527581.12   309561.60   218019.52         0.00  \n",
      "2016-03-13   538564.72   282353.48   256211.24         0.00  \n",
      "2016-03-20   578257.49   252881.52   325375.97         0.00  \n",
      "2016-03-27   442091.61   263938.32   178153.29         0.00  \n",
      "2016-04-03   430964.21   289504.38   141459.83         0.00  \n",
      "2016-04-10   658419.11   368458.82   289960.29         0.00  \n",
      "2016-04-17   511101.39   352484.76   158616.63         0.00  \n",
      "2016-04-24   716828.68   555986.43   160842.25         0.00  \n",
      "2016-05-01   572213.62   368709.06   203504.56         0.00  \n",
      "2016-05-08   535172.41   319417.49   215754.92         0.00  \n",
      "2016-05-15   431509.82   309561.79   121948.03         0.00  \n",
      "2016-05-22   527687.39   370815.25   156872.14         0.00  \n",
      "2016-05-29   465693.74   349592.45   116101.29         0.00  \n",
      "2016-06-05   442343.20   310881.84   131461.36         0.00  \n",
      "2016-06-12   386800.81   279246.87   107553.94         0.00  \n",
      "2016-06-19   446835.88   302393.63   144442.25         0.00  \n",
      "2016-06-26   438431.87   310467.62   127964.25         0.00  \n",
      "2016-07-03   520268.11   350794.25   169473.86         0.00  \n",
      "2016-07-10   523152.08   379451.98   143700.10         0.00  \n",
      "2016-07-17   495559.97   346531.83   149028.14         0.00  \n",
      "2016-07-24   407945.53   329530.26    78415.27         0.00  \n",
      "...                ...         ...         ...          ...  \n",
      "2018-04-15  1205016.85   991437.42   213457.25       122.18  \n",
      "2018-04-22  1174508.94   910246.88   264137.24       124.82  \n",
      "2018-04-29  1174781.76   879278.50   295503.26         0.00  \n",
      "2018-05-06  1099216.41   862135.42   237043.00        37.99  \n",
      "2018-05-13  1111090.67   873501.09   237527.59        61.99  \n",
      "2018-05-20  1182749.59   958819.25   223892.64        37.70  \n",
      "2018-05-27  1373723.99  1054811.41   318779.77       132.81  \n",
      "2018-06-03  1311045.39  1007876.31   302990.28       178.80  \n",
      "2018-06-10  1182638.47   943013.17   239619.27         6.03  \n",
      "2018-06-17  1159167.88   932509.19   226433.79       224.90  \n",
      "2018-06-24  1071575.45   882715.58   188246.12       613.75  \n",
      "2018-07-01  1100184.86   850168.07   249775.02       241.77  \n",
      "2018-07-08  1092704.92   805225.83   287408.34        70.75  \n",
      "2018-07-15  1062513.79   850384.88   212101.67        27.24  \n",
      "2018-08-19   948992.75   759918.27   189013.68        60.80  \n",
      "2018-08-26   965140.20   830395.38   134548.43       196.39  \n",
      "2018-09-02  1066108.68   852155.51   213468.55       484.62  \n",
      "2018-09-09  1075193.22   894931.88   180220.19        41.15  \n",
      "2018-09-16  1029631.66   856569.46   173053.04         9.16  \n",
      "2018-09-23  1032427.98   837568.14   194683.59       176.25  \n",
      "2018-09-30  1137180.28   911878.04   225186.05       116.19  \n",
      "2018-10-07  1169439.48   947582.76   221832.12        24.60  \n",
      "2018-10-14  1183773.02   980781.24   202965.68        26.10  \n",
      "2018-10-21  1154060.37   956894.57   197108.91        56.89  \n",
      "2018-10-28  1123404.15   920742.85   202601.20        60.10  \n",
      "2018-11-04  1044632.76   877016.53   167588.52        27.71  \n",
      "2018-11-11  1135599.27   986753.99   148800.45        44.83  \n",
      "2018-11-18  1114928.98   957528.55   157392.69         7.74  \n",
      "2018-11-25   786164.96   612004.35   174132.66        27.95  \n",
      "2018-12-02   893381.79   698557.18   194824.61         0.00  \n",
      "\n",
      "[149 rows x 9 columns]\n"
     ]
    }
   ],
   "source": [
    "organic_df = organic_df.sort_index()\n",
    "print(organic_df)"
   ]
  },
  {
   "cell_type": "markdown",
   "metadata": {},
   "source": [
    "## (Task 3) Sanitizing for missing dates\n",
    "### We'll check the conventional avocado dataset for any missing values"
   ]
  },
  {
   "cell_type": "code",
   "execution_count": 8,
   "metadata": {},
   "outputs": [
    {
     "data": {
      "text/plain": [
       "AveragePrice    0\n",
       "Total Volume    0\n",
       "4046            0\n",
       "4225            0\n",
       "4770            0\n",
       "Total Bags      0\n",
       "Small Bags      0\n",
       "Large Bags      0\n",
       "XLarge Bags     0\n",
       "dtype: int64"
      ]
     },
     "execution_count": 8,
     "metadata": {},
     "output_type": "execute_result"
    }
   ],
   "source": [
    "conventional_df.isnull().sum()"
   ]
  },
  {
   "cell_type": "markdown",
   "metadata": {},
   "source": [
    "Since we didn't find any missing values, we don't need to sanitize it."
   ]
  },
  {
   "cell_type": "markdown",
   "metadata": {},
   "source": [
    "### Checking the organic avocado dataset"
   ]
  },
  {
   "cell_type": "code",
   "execution_count": 9,
   "metadata": {},
   "outputs": [
    {
     "data": {
      "text/plain": [
       "AveragePrice    1\n",
       "Total Volume    0\n",
       "4046            0\n",
       "4225            0\n",
       "4770            0\n",
       "Total Bags      0\n",
       "Small Bags      0\n",
       "Large Bags      0\n",
       "XLarge Bags     0\n",
       "dtype: int64"
      ]
     },
     "execution_count": 9,
     "metadata": {},
     "output_type": "execute_result"
    }
   ],
   "source": [
    "organic_df.isnull().sum()"
   ]
  },
  {
   "cell_type": "markdown",
   "metadata": {},
   "source": [
    "We find that there's one missing value. We'll now need to sanitize for it."
   ]
  },
  {
   "cell_type": "markdown",
   "metadata": {},
   "source": [
    "### Sanitization\n",
    "Given the nature of the dataset and the fact that only one value is missing, it's appropriate to use **mean imputation** to fill in the missing value. We'll use the pandas `fillna` function to do so. "
   ]
  },
  {
   "cell_type": "code",
   "execution_count": 10,
   "metadata": {},
   "outputs": [],
   "source": [
    "organic_df.fillna(organic_df.mean(),inplace=True)"
   ]
  },
  {
   "cell_type": "code",
   "execution_count": 11,
   "metadata": {},
   "outputs": [
    {
     "data": {
      "text/plain": [
       "AveragePrice    0\n",
       "Total Volume    0\n",
       "4046            0\n",
       "4225            0\n",
       "4770            0\n",
       "Total Bags      0\n",
       "Small Bags      0\n",
       "Large Bags      0\n",
       "XLarge Bags     0\n",
       "dtype: int64"
      ]
     },
     "execution_count": 11,
     "metadata": {},
     "output_type": "execute_result"
    }
   ],
   "source": [
    "organic_df.isnull().sum()"
   ]
  },
  {
   "cell_type": "markdown",
   "metadata": {},
   "source": [
    "As we can see, there are no more missing values."
   ]
  },
  {
   "cell_type": "code",
   "execution_count": 12,
   "metadata": {},
   "outputs": [
    {
     "data": {
      "text/plain": [
       "<matplotlib.axes._subplots.AxesSubplot at 0x7efc248af978>"
      ]
     },
     "execution_count": 12,
     "metadata": {},
     "output_type": "execute_result"
    },
    {
     "data": {
      "image/png": "[encoded data removed]",
      "text/plain": [
       "<Figure size 432x288 with 1 Axes>"
      ]
     },
     "metadata": {
      "needs_background": "light"
     },
     "output_type": "display_data"
    }
   ],
   "source": [
    "organic_df['AveragePrice'].plot()\n",
    "conventional_df['AveragePrice'].plot()"
   ]
  },
  {
   "cell_type": "markdown",
   "metadata": {},
   "source": [
    "## Implementing ARIMA, forecasting, storing in database"
   ]
  },
  {
   "cell_type": "markdown",
   "metadata": {},
   "source": [
    "For convenience, I'll only consider the Organic avocado dataset from here on out. It's trivial to implement the same for the conventional avocado dataset as well."
   ]
  },
  {
   "cell_type": "markdown",
   "metadata": {},
   "source": [
    "### Dropping unnececessary columns"
   ]
  },
  {
   "cell_type": "code",
   "execution_count": 13,
   "metadata": {},
   "outputs": [],
   "source": [
    "organic_df = organic_df.drop(columns = ['Total Volume', '4046', '4225', '4770', 'Total Bags',\n",
    "       'Small Bags', 'Large Bags', 'XLarge Bags'])"
   ]
  },
  {
   "cell_type": "markdown",
   "metadata": {},
   "source": [
    "### Initializing database\n",
    "I'll create the connection `con` to the database `Parameters.db`."
   ]
  },
  {
   "cell_type": "code",
   "execution_count": 14,
   "metadata": {},
   "outputs": [],
   "source": [
    "con = sqlite3.connect('Parameters.db')"
   ]
  },
  {
   "cell_type": "markdown",
   "metadata": {},
   "source": [
    "I'll create the cursor `cur` to operate on the database."
   ]
  },
  {
   "cell_type": "code",
   "execution_count": 15,
   "metadata": {},
   "outputs": [],
   "source": [
    "cur = con.cursor()"
   ]
  },
  {
   "cell_type": "markdown",
   "metadata": {},
   "source": [
    "I first check if the table `arimaparams` already exists, if it doesn't I create it. "
   ]
  },
  {
   "cell_type": "code",
   "execution_count": 16,
   "metadata": {},
   "outputs": [
    {
     "data": {
      "text/plain": [
       "<sqlite3.Cursor at 0x7efc24580260>"
      ]
     },
     "execution_count": 16,
     "metadata": {},
     "output_type": "execute_result"
    }
   ],
   "source": [
    "tablesql = \"CREATE TABLE IF NOT EXISTS arimaparams (p text, d text, q text, mse text)\"\n",
    "cur.execute(tablesql)"
   ]
  },
  {
   "cell_type": "markdown",
   "metadata": {},
   "source": [
    "I define `insert_sql` to be the SQL query to insert values into the `arimaparams` table."
   ]
  },
  {
   "cell_type": "code",
   "execution_count": 17,
   "metadata": {},
   "outputs": [],
   "source": [
    "insert_sql = \"INSERT INTO arimaparams (p, d, q, mse) VALUES (?,?,?,?)\""
   ]
  },
  {
   "cell_type": "code",
   "execution_count": 18,
   "metadata": {
    "code_folding": []
   },
   "outputs": [
    {
     "name": "stdout",
     "output_type": "stream",
     "text": [
      "ARIMA with p, d, q(0, 0, 0) gives MSE=0.00814\n",
      "ARIMA with p, d, q(0, 0, 1) gives MSE=0.00364\n",
      "ARIMA with p, d, q(0, 0, 2) gives MSE=0.00316\n",
      "ARIMA with p, d, q(0, 0, 3) gives MSE=0.00274\n",
      "ARIMA with p, d, q(0, 1, 0) gives MSE=0.00277\n",
      "ARIMA with p, d, q(0, 1, 1) gives MSE=0.00297\n",
      "ARIMA with p, d, q(0, 1, 2) gives MSE=0.00301\n",
      "ARIMA with p, d, q(0, 1, 3) gives MSE=0.00310\n",
      "ARIMA with p, d, q(0, 2, 0) gives MSE=0.00537\n",
      "ARIMA with p, d, q(0, 2, 1) gives MSE=0.00286\n",
      "ARIMA with p, d, q(1, 0, 0) gives MSE=0.00241\n",
      "ARIMA with p, d, q(1, 0, 1) gives MSE=0.00256\n",
      "ARIMA with p, d, q(1, 0, 2) gives MSE=0.00259\n",
      "ARIMA with p, d, q(1, 1, 0) gives MSE=0.00287\n",
      "ARIMA with p, d, q(1, 1, 1) gives MSE=0.00305\n",
      "ARIMA with p, d, q(1, 2, 0) gives MSE=0.00451\n",
      "ARIMA with p, d, q(1, 2, 1) gives MSE=0.00296\n",
      "ARIMA with p, d, q(2, 0, 0) gives MSE=0.00251\n",
      "ARIMA with p, d, q(2, 0, 1) gives MSE=0.00250\n",
      "ARIMA with p, d, q(2, 0, 2) gives MSE=0.00260\n",
      "ARIMA with p, d, q(2, 0, 3) gives MSE=0.00267\n",
      "ARIMA with p, d, q(2, 1, 0) gives MSE=0.00286\n",
      "ARIMA with p, d, q(2, 1, 1) gives MSE=0.00302\n",
      "ARIMA with p, d, q(2, 2, 0) gives MSE=0.00368\n",
      "ARIMA with p, d, q(2, 2, 1) gives MSE=0.00295\n",
      "ARIMA with p, d, q(3, 0, 0) gives MSE=0.00251\n",
      "ARIMA with p, d, q(3, 0, 1) gives MSE=0.00260\n",
      "ARIMA with p, d, q(3, 0, 3) gives MSE=0.00248\n",
      "ARIMA with p, d, q(3, 1, 0) gives MSE=0.00314\n",
      "ARIMA with p, d, q(3, 1, 1) gives MSE=0.00308\n",
      "ARIMA with p, d, q(3, 1, 2) gives MSE=0.00307\n",
      "ARIMA with p, d, q(3, 2, 0) gives MSE=0.00329\n",
      "Best ARIMA(1, 0, 0) MSE=0.00241\n"
     ]
    }
   ],
   "source": [
    "#To evaluate ARIMA model, X = dataframe, arima_order = (p,d,q)\n",
    "def arima_error_calculation(X, arima_order):\n",
    "\t# split data-sets into training and test\n",
    "\ttrain_size = int(len(X) * 0.65)\n",
    "\ttrain = X[0:train_size]\n",
    "\ttest = X[train_size:]\n",
    "\thistory = [x for x in train]\n",
    "\t# use ARIMA to predict\n",
    "\tpredictions = list()\n",
    "\tfor t in range(len(test)):\n",
    "\t\tmodel = ARIMA(history, order=arima_order)\n",
    "\t\tmodel_fit = model.fit(disp=0)\n",
    "\t\tyhat = model_fit.forecast()[0]\n",
    "\t\tpredictions.append(yhat)\n",
    "\t\thistory.append(test[t])\n",
    "\t# calculate errors\n",
    "\terror = mean_squared_error(test, predictions)\n",
    "\treturn error\n",
    "\n",
    "# grid search for p, d, q values to evaluate ARIMA\n",
    "def evaluate_models(dataset, p_values, d_values, q_values):\n",
    "\tdataset = dataset.astype('float32')\n",
    "\tbest_score, best_cfg = float(\"inf\"), None\n",
    "\tfor p in p_values:\n",
    "\t\tfor d in d_values:\n",
    "\t\t\tfor q in q_values:\n",
    "\t\t\t\torder = (p,d,q)\n",
    "\t\t\t\ttry:\n",
    "\t\t\t\t\tmse = arima_error_calculation(dataset, order)\n",
    "\t\t\t\t\tcur.execute(insert_sql,(p,d,q,mse))\n",
    "\t\t\t\t\tif mse < best_score:\n",
    "\t\t\t\t\t\tbest_score, best_cfg = mse, order\n",
    "\t\t\t\t\tprint('ARIMA with p, d, q%s gives MSE=%.5f' % (order,mse))\n",
    "\t\t\t\texcept:\n",
    "\t\t\t\t\tcontinue\n",
    "\tprint('Best ARIMA%s MSE=%.5f' % (best_cfg, best_score))\n",
    "\n",
    "# evaluate parameters\n",
    "p_values = range(0, 4)\n",
    "d_values = range(0, 4)\n",
    "q_values = range(0, 4)\n",
    "warnings.filterwarnings(\"ignore\")\n",
    "evaluate_models(organic_df.values, p_values, d_values, q_values)"
   ]
  },
  {
   "cell_type": "code",
   "execution_count": 19,
   "metadata": {},
   "outputs": [
    {
     "data": {
      "text/plain": [
       "<sqlite3.Cursor at 0x7efc24580260>"
      ]
     },
     "execution_count": 19,
     "metadata": {},
     "output_type": "execute_result"
    }
   ],
   "source": [
    "cur.execute(\"SELECT * FROM arimaparams\")"
   ]
  },
  {
   "cell_type": "code",
   "execution_count": 20,
   "metadata": {},
   "outputs": [
    {
     "data": {
      "text/plain": [
       "[('0', '0', '0', '0.00813997638295601'),\n",
       " ('0', '0', '1', '0.00363893091418205'),\n",
       " ('0', '0', '2', '0.00315633571688102'),\n",
       " ('0', '0', '3', '0.00274191056418425'),\n",
       " ('0', '1', '0', '0.00277373627603646'),\n",
       " ('0', '1', '1', '0.00296562274556327'),\n",
       " ('0', '1', '2', '0.00300683679979873'),\n",
       " ('0', '1', '3', '0.00310310159377464'),\n",
       " ('0', '2', '0', '0.00537464231003507'),\n",
       " ('0', '2', '1', '0.00285598696718592'),\n",
       " ('1', '0', '0', '0.00241281075119629'),\n",
       " ('1', '0', '1', '0.00256267669830949'),\n",
       " ('1', '0', '2', '0.00259331296490301'),\n",
       " ('1', '1', '0', '0.00287206617015032'),\n",
       " ('1', '1', '1', '0.00305405501887583'),\n",
       " ('1', '2', '0', '0.0045130918233474'),\n",
       " ('1', '2', '1', '0.00295734487681217'),\n",
       " ('2', '0', '0', '0.00250740746585089'),\n",
       " ('2', '0', '1', '0.00250141888130366'),\n",
       " ('2', '0', '2', '0.00260344458452661'),\n",
       " ('2', '0', '3', '0.00266716024277305'),\n",
       " ('2', '1', '0', '0.0028608728273945'),\n",
       " ('2', '1', '1', '0.00302027271586157'),\n",
       " ('2', '2', '0', '0.00367721412134054'),\n",
       " ('2', '2', '1', '0.00295180478841762'),\n",
       " ('3', '0', '0', '0.00251367830546114'),\n",
       " ('3', '0', '1', '0.0026040167183782'),\n",
       " ('3', '0', '3', '0.00248280113942314'),\n",
       " ('3', '1', '0', '0.00314414477328034'),\n",
       " ('3', '1', '1', '0.0030796139771642'),\n",
       " ('3', '1', '2', '0.00307460760299387'),\n",
       " ('3', '2', '0', '0.0032910749318272')]"
      ]
     },
     "execution_count": 20,
     "metadata": {},
     "output_type": "execute_result"
    }
   ],
   "source": [
    "cur.fetchall()"
   ]
  },
  {
   "cell_type": "code",
   "execution_count": 21,
   "metadata": {},
   "outputs": [],
   "source": [
    "con.close()"
   ]
  },
  {
   "cell_type": "code",
   "execution_count": 22,
   "metadata": {},
   "outputs": [
    {
     "data": {
      "text/html": [
       "<div>\n",
       "<style scoped>\n",
       "    .dataframe tbody tr th:only-of-type {\n",
       "        vertical-align: middle;\n",
       "    }\n",
       "\n",
       "    .dataframe tbody tr th {\n",
       "        vertical-align: top;\n",
       "    }\n",
       "\n",
       "    .dataframe thead th {\n",
       "        text-align: right;\n",
       "    }\n",
       "</style>\n",
       "<table border=\"1\" class=\"dataframe\">\n",
       "  <thead>\n",
       "    <tr style=\"text-align: right;\">\n",
       "      <th></th>\n",
       "      <th>AveragePrice</th>\n",
       "      <th>PredictedPrice</th>\n",
       "    </tr>\n",
       "    <tr>\n",
       "      <th>Date</th>\n",
       "      <th></th>\n",
       "      <th></th>\n",
       "    </tr>\n",
       "  </thead>\n",
       "  <tbody>\n",
       "    <tr>\n",
       "      <th>2016-01-10</th>\n",
       "      <td>1.35</td>\n",
       "      <td>1.44</td>\n",
       "    </tr>\n",
       "    <tr>\n",
       "      <th>2016-01-17</th>\n",
       "      <td>1.44</td>\n",
       "      <td>1.37</td>\n",
       "    </tr>\n",
       "    <tr>\n",
       "      <th>2016-01-24</th>\n",
       "      <td>1.41</td>\n",
       "      <td>1.45</td>\n",
       "    </tr>\n",
       "    <tr>\n",
       "      <th>2016-01-31</th>\n",
       "      <td>1.43</td>\n",
       "      <td>1.43</td>\n",
       "    </tr>\n",
       "    <tr>\n",
       "      <th>2016-02-07</th>\n",
       "      <td>1.44</td>\n",
       "      <td>1.44</td>\n",
       "    </tr>\n",
       "  </tbody>\n",
       "</table>\n",
       "</div>"
      ],
      "text/plain": [
       "            AveragePrice  PredictedPrice\n",
       "Date                                    \n",
       "2016-01-10          1.35            1.44\n",
       "2016-01-17          1.44            1.37\n",
       "2016-01-24          1.41            1.45\n",
       "2016-01-31          1.43            1.43\n",
       "2016-02-07          1.44            1.44"
      ]
     },
     "execution_count": 22,
     "metadata": {},
     "output_type": "execute_result"
    }
   ],
   "source": [
    "model = ARIMA(organic_df['AveragePrice'], order = (1, 0, 0))\n",
    "results_ARIMA = model.fit()\n",
    "predictions = round(results_ARIMA.predict(), 2)\n",
    "preds = pd.DataFrame(list(zip(list(predictions.index),list(predictions))),columns=['Date',\n",
    "                                                                                   'PredictedPrice']).set_index('Date')\n",
    "predicted_df = pd.merge(organic_df[1:], preds, left_index=True, right_index=True)\n",
    "predicted_df.head()"
   ]
  },
  {
   "cell_type": "code",
   "execution_count": 23,
   "metadata": {},
   "outputs": [
    {
     "name": "stdout",
     "output_type": "stream",
     "text": [
      "\tMean Squared Error: 0.006107601351351347\n",
      "\tRoot Mean Squared Error: 0.07815114427410098\n"
     ]
    }
   ],
   "source": [
    "\n",
    "print(\"\\tMean Squared Error:\", mean_squared_error(predicted_df['AveragePrice'], predicted_df['PredictedPrice']))\n",
    "print(\"\\tRoot Mean Squared Error:\", np.sqrt(mean_squared_error(predicted_df['AveragePrice'], \n",
    "                                                               predicted_df['PredictedPrice'])))"
   ]
  },
  {
   "cell_type": "code",
   "execution_count": 24,
   "metadata": {},
   "outputs": [
    {
     "data": {
      "image/png": "[encoded data removed]",
      "text/plain": [
       "<Figure size 432x288 with 1 Axes>"
      ]
     },
     "execution_count": 24,
     "metadata": {},
     "output_type": "execute_result"
    },
    {
     "data": {
      "image/png": "[encoded data removed]",
      "text/plain": [
       "<Figure size 432x288 with 1 Axes>"
      ]
     },
     "metadata": {
      "needs_background": "light"
     },
     "output_type": "display_data"
    }
   ],
   "source": [
    "results_ARIMA.plot_predict(end=200)"
   ]
  },
  {
   "cell_type": "code",
   "execution_count": 25,
   "metadata": {},
   "outputs": [
    {
     "data": {
      "image/png": "[encoded data removed]",
      "text/plain": [
       "<Figure size 432x288 with 4 Axes>"
      ]
     },
     "metadata": {
      "needs_background": "light"
     },
     "output_type": "display_data"
    }
   ],
   "source": [
    "result = seasonal_decompose(organic_df, model='multiplicative',freq=52)\n",
    "fig = result.plot()"
   ]
  },
  {
   "cell_type": "code",
   "execution_count": 26,
   "metadata": {},
   "outputs": [
    {
     "data": {
      "text/html": [
       "<div>\n",
       "<style scoped>\n",
       "    .dataframe tbody tr th:only-of-type {\n",
       "        vertical-align: middle;\n",
       "    }\n",
       "\n",
       "    .dataframe tbody tr th {\n",
       "        vertical-align: top;\n",
       "    }\n",
       "\n",
       "    .dataframe thead th {\n",
       "        text-align: right;\n",
       "    }\n",
       "</style>\n",
       "<table border=\"1\" class=\"dataframe\">\n",
       "  <thead>\n",
       "    <tr style=\"text-align: right;\">\n",
       "      <th></th>\n",
       "      <th>AveragePrice</th>\n",
       "      <th>PredictedPrice</th>\n",
       "    </tr>\n",
       "    <tr>\n",
       "      <th>Date</th>\n",
       "      <th></th>\n",
       "      <th></th>\n",
       "    </tr>\n",
       "  </thead>\n",
       "  <tbody>\n",
       "    <tr>\n",
       "      <th>2018-11-04</th>\n",
       "      <td>1.500</td>\n",
       "      <td>1.511807</td>\n",
       "    </tr>\n",
       "    <tr>\n",
       "      <th>2018-11-11</th>\n",
       "      <td>1.490</td>\n",
       "      <td>1.502946</td>\n",
       "    </tr>\n",
       "    <tr>\n",
       "      <th>2018-11-18</th>\n",
       "      <td>1.565</td>\n",
       "      <td>1.489665</td>\n",
       "    </tr>\n",
       "    <tr>\n",
       "      <th>2018-11-25</th>\n",
       "      <td>1.660</td>\n",
       "      <td>1.562853</td>\n",
       "    </tr>\n",
       "    <tr>\n",
       "      <th>2018-12-02</th>\n",
       "      <td>1.580</td>\n",
       "      <td>1.640387</td>\n",
       "    </tr>\n",
       "  </tbody>\n",
       "</table>\n",
       "</div>"
      ],
      "text/plain": [
       "            AveragePrice  PredictedPrice\n",
       "Date                                    \n",
       "2018-11-04         1.500        1.511807\n",
       "2018-11-11         1.490        1.502946\n",
       "2018-11-18         1.565        1.489665\n",
       "2018-11-25         1.660        1.562853\n",
       "2018-12-02         1.580        1.640387"
      ]
     },
     "execution_count": 26,
     "metadata": {},
     "output_type": "execute_result"
    }
   ],
   "source": [
    "sarimaxmod = sm.tsa.statespace.SARIMAX(organic_df['AveragePrice'],\n",
    "                                order=(2, 1, 2), #Same as the optimal obtained\n",
    "                                seasonal_order=(1, 0, 0, 52), #52 weeks in one year\n",
    "                                enforce_stationarity=False,\n",
    "                                enforce_invertibility=False)\n",
    "\n",
    "SARIMAX_results = sarimaxmod.fit()\n",
    "\n",
    "SARIMAX_predictions = SARIMAX_results.predict()\n",
    "\n",
    "SARIMAX_preds = pd.DataFrame(list(zip(list(SARIMAX_predictions.index),list(SARIMAX_predictions))),\n",
    "                             columns=['Date','PredictedPrice']).set_index('Date')\n",
    "\n",
    "SARIMAX_predicted_df = pd.merge(organic_df[1:], SARIMAX_preds, left_index=True, right_index=True)\n",
    "SARIMAX_predicted_df.tail()"
   ]
  },
  {
   "cell_type": "code",
   "execution_count": 27,
   "metadata": {},
   "outputs": [
    {
     "name": "stdout",
     "output_type": "stream",
     "text": [
      "\tMSE: 0.007939576166187817\n",
      "\tRMSE: 0.08910429936982736\n"
     ]
    }
   ],
   "source": [
    "print(\"\\tMSE:\", mean_squared_error(SARIMAX_predicted_df['AveragePrice'], \n",
    "                                                  SARIMAX_predicted_df['PredictedPrice']))\n",
    "print(\"\\tRMSE:\", np.sqrt(mean_squared_error(SARIMAX_predicted_df['AveragePrice'], \n",
    "                                                               SARIMAX_predicted_df['PredictedPrice'])))\n"
   ]
  },
  {
   "cell_type": "code",
   "execution_count": 28,
   "metadata": {},
   "outputs": [],
   "source": [
    "SARIMAX_forecast = pd.DataFrame(SARIMAX_results.forecast(steps = 40), columns = ['Forecasted Price'])"
   ]
  },
  {
   "cell_type": "code",
   "execution_count": 29,
   "metadata": {},
   "outputs": [],
   "source": [
    "forecasted_dates = pd.date_range(start='2018-12-09', periods=40,freq='W')\n",
    "SARIMAX_forecast.insert(0,'Date',forecasted_dates)\n",
    "SARIMAX_forecast.set_index('Date',inplace=True)"
   ]
  },
  {
   "cell_type": "code",
   "execution_count": 30,
   "metadata": {},
   "outputs": [
    {
     "name": "stdout",
     "output_type": "stream",
     "text": [
      "            Forecasted Price\n",
      "Date                        \n",
      "2018-12-09          1.563363\n",
      "2018-12-16          1.586464\n",
      "2018-12-23          1.595287\n",
      "2018-12-30          1.588946\n",
      "2019-01-06          1.588440\n",
      "2019-01-13          1.591655\n",
      "2019-01-20          1.590717\n",
      "2019-01-27          1.592737\n",
      "2019-02-03          1.592503\n",
      "2019-02-10          1.590737\n",
      "2019-02-17          1.589690\n",
      "2019-02-24          1.589982\n",
      "2019-03-03          1.592447\n",
      "2019-03-10          1.591638\n",
      "2019-03-17          1.592963\n",
      "2019-03-24          1.591293\n",
      "2019-03-31          1.592878\n",
      "2019-04-07          1.592907\n",
      "2019-04-14          1.592274\n",
      "2019-04-21          1.591940\n",
      "2019-04-28          1.591937\n",
      "2019-05-05          1.591943\n",
      "2019-05-12          1.593227\n",
      "2019-05-19          1.593545\n",
      "2019-05-26          1.591941\n",
      "2019-06-02          1.591942\n",
      "2019-06-09          1.592584\n",
      "2019-06-16          1.593224\n",
      "2019-06-23          1.596110\n",
      "2019-06-30          1.595149\n",
      "2019-07-07          1.592904\n",
      "2019-07-14          1.596431\n",
      "2019-07-21          1.593545\n",
      "2019-07-28          1.591621\n",
      "2019-08-04          1.591301\n",
      "2019-08-11          1.590980\n",
      "2019-08-18          1.589056\n",
      "2019-08-25          1.588735\n",
      "2019-09-01          1.586811\n",
      "2019-09-08          1.587132\n"
     ]
    }
   ],
   "source": [
    "print(SARIMAX_forecast)"
   ]
  },
  {
   "cell_type": "code",
   "execution_count": null,
   "metadata": {},
   "outputs": [],
   "source": []
  },
  {
   "cell_type": "code",
   "execution_count": null,
   "metadata": {},
   "outputs": [],
   "source": []
  },
  {
   "cell_type": "code",
   "execution_count": null,
   "metadata": {},
   "outputs": [],
   "source": []
  }
 ],
 "metadata": {
  "kernelspec": {
   "display_name": "Python 3",
   "language": "python",
   "name": "python3"
  },
  "language_info": {
   "codemirror_mode": {
    "name": "ipython",
    "version": 3
   },
   "file_extension": ".py",
   "mimetype": "text/x-python",
   "name": "python",
   "nbconvert_exporter": "python",
   "pygments_lexer": "ipython3",
   "version": "3.7.1"
  },
  "toc": {
   "base_numbering": 1,
   "nav_menu": {},
   "number_sections": true,
   "sideBar": true,
   "skip_h1_title": false,
   "title_cell": "Table of Contents",
   "title_sidebar": "Contents",
   "toc_cell": false,
   "toc_position": {},
   "toc_section_display": true,
   "toc_window_display": false
  }
 },
 "nbformat": 4,
 "nbformat_minor": 2
}
